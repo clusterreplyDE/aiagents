{
 "cells": [
  {
   "cell_type": "markdown",
   "metadata": {},
   "source": [
    "Setup"
   ]
  },
  {
   "cell_type": "code",
   "execution_count": 3,
   "metadata": {},
   "outputs": [
    {
     "data": {
      "text/plain": [
       "True"
      ]
     },
     "execution_count": 3,
     "metadata": {},
     "output_type": "execute_result"
    }
   ],
   "source": [
    "from dotenv import load_dotenv\n",
    "import warnings\n",
    "warnings.filterwarnings('ignore')\n",
    "load_dotenv()"
   ]
  },
  {
   "cell_type": "markdown",
   "metadata": {},
   "source": [
    "Create llm"
   ]
  },
  {
   "cell_type": "code",
   "execution_count": 4,
   "metadata": {},
   "outputs": [],
   "source": [
    "# https://python.langchain.com/docs/integrations/llms/openai/\n",
    "from langchain.llms import OpenAI\n",
    "\n",
    "#https://python.langchain.com/docs/modules/agents/quick_start/\n",
    "from langchain.agents import load_tools, initialize_agent"
   ]
  },
  {
   "cell_type": "code",
   "execution_count": 5,
   "metadata": {},
   "outputs": [],
   "source": [
    "# API KEY comes from environment OPENAI_API_KEY\n",
    "# Goto: https://platform.openai.com/api-keys\n",
    "\n",
    "llm = OpenAI(temperature=0.5)"
   ]
  },
  {
   "cell_type": "code",
   "execution_count": 6,
   "metadata": {},
   "outputs": [
    {
     "data": {
      "text/plain": [
       "'\\n\\nThe capital of Germany is Berlin.'"
      ]
     },
     "execution_count": 6,
     "metadata": {},
     "output_type": "execute_result"
    }
   ],
   "source": [
    "llm(\"What is the capital of germany?\")"
   ]
  },
  {
   "cell_type": "markdown",
   "metadata": {},
   "source": [
    "Create agent toolkit"
   ]
  },
  {
   "cell_type": "markdown",
   "metadata": {},
   "source": [
    "Tools\n",
    "\n",
    "- python_repl - A Python shell\n",
    "- serpapi - A search engine\n",
    "- wolfram - alpha A search engine for technical questions\n",
    "- requests - A protal to the internet\n",
    "- terminal - Terminal command shell\n",
    "- pal-math - Solving math problems\n",
    "- llm-math - For math questions\n",
    "- open-meteo-api - For weather information\n",
    "- news-api - For current news\n",
    "- tmdb-api - For the movie database\n",
    "- google-search - A google search wrapper"
   ]
  },
  {
   "cell_type": "code",
   "execution_count": 9,
   "metadata": {},
   "outputs": [],
   "source": [
    "# serpapi => module: google-search-results\n",
    "# llm-math => module: numexpr\n",
    "\n",
    "# API KEY comes from environment SERPAPI_API_KEY\n",
    "# goto: https://serpapi.com/dashboard\n",
    "\n",
    "toolkit = load_tools([\"serpapi\", \"llm-math\"], llm=llm)\n",
    "#toolkit"
   ]
  },
  {
   "cell_type": "markdown",
   "metadata": {},
   "source": [
    "Create agent"
   ]
  },
  {
   "cell_type": "code",
   "execution_count": 8,
   "metadata": {},
   "outputs": [],
   "source": [
    "# https://api.python.langchain.com/en/latest/agents/langchain.agents.agent_types.AgentType.html#langchain.agents.agent_types.AgentType\n",
    "agent = initialize_agent(toolkit, llm, agent=\"zero-shot-react-description\", verbose=True)"
   ]
  },
  {
   "cell_type": "markdown",
   "metadata": {},
   "source": [
    "Run agent (Example 1)"
   ]
  },
  {
   "cell_type": "code",
   "execution_count": 18,
   "metadata": {},
   "outputs": [
    {
     "name": "stdout",
     "output_type": "stream",
     "text": [
      "\n",
      "\n",
      "\u001b[1m> Entering new AgentExecutor chain...\u001b[0m\n",
      "\u001b[32;1m\u001b[1;3m I should search for the leader of Japan and find out their age.\n",
      "Action: Search\n",
      "Action Input: \"leader of Japan\"\u001b[0m\n",
      "Observation: \u001b[36;1m\u001b[1;3mPrime Minister Kishida reaffirmed Japan's unwavering commitment to fundamentally reinforce its own defense capabilities and roles, and to enhance its close coordination with the United States under the Treaty.President Biden also reaffirmed that Article V applies to the Senkaku Islands.\u001b[0m\n",
      "Thought:\u001b[32;1m\u001b[1;3m Now that I know the leader of Japan is Kishida, I should use a calculator to find the largest prime number smaller than their age.\n",
      "Action: Calculator\n",
      "Action Input: 74 (Kishida's age)\u001b[0m\n",
      "Observation: \u001b[33;1m\u001b[1;3mAnswer: 74\u001b[0m\n",
      "Thought:\u001b[32;1m\u001b[1;3m I now know the final answer is 73.\n",
      "Final Answer: 73 \u001b[0m\n",
      "\n",
      "\u001b[1m> Finished chain.\u001b[0m\n"
     ]
    },
    {
     "data": {
      "text/plain": [
       "'73'"
      ]
     },
     "execution_count": 18,
     "metadata": {},
     "output_type": "execute_result"
    }
   ],
   "source": [
    "agent.run(\"Who is the leader of Japan? What is the largest prime number that is smaller than their age?\")"
   ]
  },
  {
   "cell_type": "markdown",
   "metadata": {},
   "source": [
    "Run agent (Example 2)"
   ]
  },
  {
   "cell_type": "code",
   "execution_count": 21,
   "metadata": {},
   "outputs": [
    {
     "name": "stdout",
     "output_type": "stream",
     "text": [
      "\n",
      "\n",
      "\u001b[1m> Entering new AgentExecutor chain...\u001b[0m\n",
      "\u001b[32;1m\u001b[1;3m It's important to know the name of the band Kurt Cobain was a part of.\n",
      "Action: Search\n",
      "Action Input: Kurt Cobain band\u001b[0m\n",
      "Observation: \u001b[36;1m\u001b[1;3m['Kurt Donald Cobain was an American musician who was the lead vocalist, guitarist, primary songwriter, and a founding member of the grunge rock band Nirvana. Through his angsty songwriting and anti-establishment persona, his compositions widened the thematic conventions of mainstream rock music.', 'Kurt Cobain type: American musician.', 'Kurt Cobain entity_type: people, people.', 'Kurt Cobain main_tab_text: Overview.', 'Kurt Cobain kgmid: /m/0484q.', 'Kurt Cobain born: February 20, 1967, Aberdeen, WA.', 'Kurt Cobain died: April 5, 1994 (age 27 years), Seattle, WA.', 'Kurt Cobain spouse: Courtney Love (m. 1992–1994).', 'Kurt Cobain children: Frances Bean Cobain.', 'Kurt Cobain parents: Wendy Cobain, Donald Cobain.', 'Kurt Donald Cobain (February 20, 1967 – c. April 5, 1994) was an American musician who was the lead vocalist, guitarist, primary songwriter, and a founding ...', 'Nirvana was an American rock band formed in Aberdeen, Washington, in 1987. Founded by lead singer and guitarist Kurt Cobain and bassist Krist Novoselic, ...', 'Official Nirvana Website: Complete Discography, Videos and more.', 'Kurt Cobain, American rock musician who rose to fame as the lead singer, guitarist, and songwriter for the seminal grunge band Nirvana, ...', 'Kurt Cobain named his band nirvana because in Buddhism, Nirvana means ultimate freedom and individuality (essentially the buddhist version of ...', 'Nirvana is an American rock band formed in Aberdeen, Washington, some two hours outside of Seattle. The group formed officially in 1987, founded ...', 'Kurt and Krist Novoselic had a Creedence Clearwater Revival cover band that was not successful. They later founded Nirvana in 1987. During the early days of the ...', \"“Kurt was determined to use his newfound fame to support the kind of indie rock he loved,” says Nirvana's former manager Danny Goldberg, author ...\"]\u001b[0m\n",
      "Thought:\u001b[32;1m\u001b[1;3m Now I know that the band Kurt Cobain was a part of was Nirvana.\n",
      "Action: Search\n",
      "Action Input: Nirvana first album\u001b[0m\n",
      "Observation: \u001b[36;1m\u001b[1;3m['Live On Air 1987 type: Live album by Nirvana.', 'Live On Air 1987 entity_type: music, music.', 'Live On Air 1987 main_tab_text: Overview.', 'Live On Air 1987 kgmid: /g/11f3wrpp3c.', 'Live On Air 1987 artist: Nirvana.', 'Bleach is the debut studio album by American rock band Nirvana, released on June 15, 1989, by Sub Pop. After the release of their debut single \"Love Buzz\" ...', 'In the late 1980s, Nirvana established itself as part of the Seattle grunge scene, releasing its first album, Bleach, for the independent record label Sub Pop ...', 'Bleach is the debut studio album by American rock band Nirvana, released on June 15, 1989 by Sub Pop. Sub Pop released on November 3, 2009 a deluxe reissue of ...', '1988 and its first album, Bleach, in 1989. The album had a unique (and soon-to-be signature) sound that mixed the rawness of punk rock with pop ...', \"Nirvana's debut album 'Bleach' prototyped the 'Nevermind' sound that would take the group to a global stage and reshape rock'n'roll.\", \"34 Years Ago: Nirvana Release Their Debut Album 'Bleach' · 1. Alice in Chains, 'Dirt' (1992) · 2. Nirvana, 'Nevermind' (1991) · 3. Pearl Jam, ' ...\", '34 years ago on June 15th, Nirvana released their debut album, Bleach. r/Nirvana - NIRVANA N \"BLEACH\". Upvote', \"The stories behind every song on Nirvana's game-changing debut album Bleach.\", \"Even so, Nirvana's debut album stood out from its Seattle grunge contemporaries. Upon its release, NME's Edwin Pouncey called it the ...\"]\u001b[0m\n",
      "Thought:\u001b[32;1m\u001b[1;3m Now I know that the first album of the band Kurt Cobain was a part of, Nirvana, was released on June 15, 1989.\n",
      "Final Answer: June 15, 1989\u001b[0m\n",
      "\n",
      "\u001b[1m> Finished chain.\u001b[0m\n"
     ]
    },
    {
     "data": {
      "text/plain": [
       "{'input': 'when was the first album of the band kurt cobain is a part of released?',\n",
       " 'output': 'June 15, 1989'}"
      ]
     },
     "execution_count": 21,
     "metadata": {},
     "output_type": "execute_result"
    }
   ],
   "source": [
    "response = agent({\"input\": \"when was the first album of the band kurt cobain is a part of released?\"})\n",
    "response"
   ]
  },
  {
   "cell_type": "code",
   "execution_count": 22,
   "metadata": {},
   "outputs": [
    {
     "data": {
      "text/plain": [
       "'June 15, 1989'"
      ]
     },
     "execution_count": 22,
     "metadata": {},
     "output_type": "execute_result"
    }
   ],
   "source": [
    "response['output']"
   ]
  }
 ],
 "metadata": {
  "kernelspec": {
   "display_name": ".venv",
   "language": "python",
   "name": "python3"
  },
  "language_info": {
   "codemirror_mode": {
    "name": "ipython",
    "version": 3
   },
   "file_extension": ".py",
   "mimetype": "text/x-python",
   "name": "python",
   "nbconvert_exporter": "python",
   "pygments_lexer": "ipython3",
   "version": "3.12.2"
  }
 },
 "nbformat": 4,
 "nbformat_minor": 2
}
